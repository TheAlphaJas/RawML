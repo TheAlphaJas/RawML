{
 "cells": [
  {
   "cell_type": "code",
   "execution_count": 2,
   "id": "e2f26afe-10b4-42a7-973c-aae6ad1010e0",
   "metadata": {},
   "outputs": [],
   "source": [
    "import torch"
   ]
  },
  {
   "cell_type": "code",
   "execution_count": 11,
   "id": "ad725f86-1812-4b8a-9cb4-f74e4a2885d6",
   "metadata": {},
   "outputs": [],
   "source": [
    "iv = torch.randn([1,50])\n",
    "w1 = torch.randn([50,100])\n",
    "b1 = torch.randn([1,100])\n",
    "#layer 1 -> iv*w1 + b1 = (1,100)\n"
   ]
  },
  {
   "cell_type": "code",
   "execution_count": 104,
   "id": "5dbd1407-f210-48b5-8b08-5b50102dcfee",
   "metadata": {},
   "outputs": [],
   "source": [
    "l1 = (iv @ w1) + b1"
   ]
  },
  {
   "cell_type": "code",
   "execution_count": 105,
   "id": "74eb8cd1-715a-4cfc-a316-754756a96dec",
   "metadata": {},
   "outputs": [
    {
     "data": {
      "text/plain": [
       "torch.Size([1, 100])"
      ]
     },
     "execution_count": 105,
     "metadata": {},
     "output_type": "execute_result"
    }
   ],
   "source": [
    "l1.shape"
   ]
  },
  {
   "cell_type": "code",
   "execution_count": 106,
   "id": "836d25b2-95dc-4c67-a7a6-7587332bf744",
   "metadata": {},
   "outputs": [
    {
     "name": "stdout",
     "output_type": "stream",
     "text": [
      "tensor(-0.6419)\n",
      "tensor(6.9654)\n"
     ]
    }
   ],
   "source": [
    "def getstats(l1):\n",
    "    print(torch.mean(l1))\n",
    "    print(torch.std(l1))\n",
    "\n",
    "getstats(l1)"
   ]
  },
  {
   "cell_type": "code",
   "execution_count": 154,
   "id": "0e6d3e29-1436-4f95-9426-66fa1165d4fb",
   "metadata": {},
   "outputs": [],
   "source": [
    "def checknorm(l1,n=1):\n",
    "    l1 = torch.randn([200,100])*n\n",
    "    for i in range(30):\n",
    "        w2 = torch.rand([100,100])*n\n",
    "        b2 = torch.zeros([1,100])\n",
    "        l1 = (l1@w2)+b2\n",
    "        l1 = torch.clamp(l1,0)\n",
    "    getstats(l1)\n",
    "    return l1"
   ]
  },
  {
   "cell_type": "code",
   "execution_count": 155,
   "id": "9c402d80-04e0-4543-97a6-51a5fc403ca9",
   "metadata": {},
   "outputs": [
    {
     "name": "stdout",
     "output_type": "stream",
     "text": [
      "tensor(0.6666)\n",
      "tensor(0.8289)\n"
     ]
    }
   ],
   "source": [
    "l1 = checknorm(l1,0.02485)"
   ]
  },
  {
   "cell_type": "code",
   "execution_count": 110,
   "id": "f252e44b-5e2e-4dac-964f-07aa2b5425e1",
   "metadata": {},
   "outputs": [],
   "source": [
    "l1.g = 5"
   ]
  },
  {
   "cell_type": "code",
   "execution_count": 112,
   "id": "e6600537-faa4-4484-9579-7486b8bea3df",
   "metadata": {},
   "outputs": [
    {
     "data": {
      "text/plain": [
       "5"
      ]
     },
     "execution_count": 112,
     "metadata": {},
     "output_type": "execute_result"
    }
   ],
   "source": []
  },
  {
   "cell_type": "code",
   "execution_count": null,
   "id": "519d4c8e-1379-4dd6-b421-3a8113ea7324",
   "metadata": {},
   "outputs": [],
   "source": []
  },
  {
   "cell_type": "markdown",
   "id": "c1aa4f49-6b3a-45a5-b520-6f0092effe3f",
   "metadata": {},
   "source": [
    "##### "
   ]
  },
  {
   "cell_type": "code",
   "execution_count": null,
   "id": "7e0fae44-2870-4875-ac95-0ec9015700c0",
   "metadata": {},
   "outputs": [],
   "source": []
  }
 ],
 "metadata": {
  "kernelspec": {
   "display_name": "Python 3 (ipykernel)",
   "language": "python",
   "name": "python3"
  },
  "language_info": {
   "codemirror_mode": {
    "name": "ipython",
    "version": 3
   },
   "file_extension": ".py",
   "mimetype": "text/x-python",
   "name": "python",
   "nbconvert_exporter": "python",
   "pygments_lexer": "ipython3",
   "version": "3.10.14"
  }
 },
 "nbformat": 4,
 "nbformat_minor": 5
}
