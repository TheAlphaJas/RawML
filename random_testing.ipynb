{
 "cells": [
  {
   "cell_type": "code",
   "execution_count": 2,
   "id": "e2f26afe-10b4-42a7-973c-aae6ad1010e0",
   "metadata": {},
   "outputs": [],
   "source": [
    "import torch"
   ]
  },
  {
   "cell_type": "code",
   "execution_count": 3,
   "id": "ad725f86-1812-4b8a-9cb4-f74e4a2885d6",
   "metadata": {},
   "outputs": [],
   "source": [
    "iv = torch.randn([1,50])\n",
    "w1 = torch.randn([50,100])\n",
    "b1 = torch.randn([1,100])\n",
    "#layer 1 -> iv*w1 + b1 = (1,100)\n"
   ]
  },
  {
   "cell_type": "code",
   "execution_count": 4,
   "id": "5dbd1407-f210-48b5-8b08-5b50102dcfee",
   "metadata": {},
   "outputs": [],
   "source": [
    "l1 = (iv @ w1) + b1"
   ]
  },
  {
   "cell_type": "code",
   "execution_count": 5,
   "id": "74eb8cd1-715a-4cfc-a316-754756a96dec",
   "metadata": {},
   "outputs": [
    {
     "data": {
      "text/plain": [
       "torch.Size([1, 100])"
      ]
     },
     "execution_count": 5,
     "metadata": {},
     "output_type": "execute_result"
    }
   ],
   "source": [
    "l1.shape"
   ]
  },
  {
   "cell_type": "code",
   "execution_count": 6,
   "id": "836d25b2-95dc-4c67-a7a6-7587332bf744",
   "metadata": {},
   "outputs": [
    {
     "name": "stdout",
     "output_type": "stream",
     "text": [
      "tensor(-0.7792)\n",
      "tensor(6.5173)\n"
     ]
    }
   ],
   "source": [
    "def getstats(l1):\n",
    "    print(torch.mean(l1))\n",
    "    print(torch.std(l1))\n",
    "\n",
    "getstats(l1)"
   ]
  },
  {
   "cell_type": "code",
   "execution_count": 60,
   "id": "0e6d3e29-1436-4f95-9426-66fa1165d4fb",
   "metadata": {},
   "outputs": [],
   "source": [
    "def checknorm(l1,n=1):\n",
    "    l1 = torch.randn([10,100])\n",
    "    for i in range(100):\n",
    "        w2 = torch.randn([100,100])*sqrt(1/100)\n",
    "        # b2 = torch.zeros([1,100])*0.01\n",
    "        l1 = (l1@w2)\n",
    "        # l1 = l1.clamp(0)\n",
    "    getstats(l1)\n",
    "    return l1"
   ]
  },
  {
   "cell_type": "code",
   "execution_count": 61,
   "id": "9c402d80-04e0-4543-97a6-51a5fc403ca9",
   "metadata": {},
   "outputs": [
    {
     "name": "stdout",
     "output_type": "stream",
     "text": [
      "tensor(-0.0004)\n",
      "tensor(0.7807)\n"
     ]
    }
   ],
   "source": [
    "l1 = checknorm(l1,0.1)"
   ]
  },
  {
   "cell_type": "code",
   "execution_count": 110,
   "id": "f252e44b-5e2e-4dac-964f-07aa2b5425e1",
   "metadata": {},
   "outputs": [],
   "source": [
    "l1.g = 5"
   ]
  },
  {
   "cell_type": "code",
   "execution_count": 12,
   "id": "e6600537-faa4-4484-9579-7486b8bea3df",
   "metadata": {},
   "outputs": [
    {
     "name": "stdout",
     "output_type": "stream",
     "text": [
      "tensor([0., 0., 4., 5., 6., 7.])\n"
     ]
    }
   ],
   "source": [
    "y = torch.tensor([-2,-3,4,5,6,7.]).clamp(0)\n",
    "print(y)"
   ]
  },
  {
   "cell_type": "code",
   "execution_count": 42,
   "id": "5de746cb-ead6-40cf-a51a-a4a574714804",
   "metadata": {},
   "outputs": [],
   "source": [
    "def relu(x):\n",
    "    return x.clamp(0)"
   ]
  },
  {
   "cell_type": "code",
   "execution_count": 45,
   "id": "5c7920e8-bd42-4cbe-9a9a-812e8c0ba8a0",
   "metadata": {},
   "outputs": [
    {
     "name": "stdout",
     "output_type": "stream",
     "text": [
      "2.23606797749979\n"
     ]
    }
   ],
   "source": [
    "from math import sqrt\n",
    "print(sqrt(5))"
   ]
  },
  {
   "cell_type": "code",
   "execution_count": 56,
   "id": "519d4c8e-1379-4dd6-b421-3a8113ea7324",
   "metadata": {},
   "outputs": [],
   "source": [
    "x = torch.randn([200,100])\n",
    "for i in range(500): \n",
    "    x = relu(x@(torch.randn([100,100])*sqrt(2/100)))"
   ]
  },
  {
   "cell_type": "markdown",
   "id": "c1aa4f49-6b3a-45a5-b520-6f0092effe3f",
   "metadata": {},
   "source": [
    "##### "
   ]
  },
  {
   "cell_type": "code",
   "execution_count": 57,
   "id": "7e0fae44-2870-4875-ac95-0ec9015700c0",
   "metadata": {},
   "outputs": [
    {
     "data": {
      "text/plain": [
       "tensor(0.0009)"
      ]
     },
     "execution_count": 57,
     "metadata": {},
     "output_type": "execute_result"
    }
   ],
   "source": [
    "x.std()"
   ]
  },
  {
   "cell_type": "code",
   "execution_count": null,
   "id": "a7629f71-6ace-47cc-8e00-0e133d856285",
   "metadata": {},
   "outputs": [],
   "source": [
    "class MSELoss:\n",
    "    def __init()"
   ]
  },
  {
   "cell_type": "code",
   "execution_count": 85,
   "id": "5195d65e-a5ac-4435-a367-d1100afd1409",
   "metadata": {},
   "outputs": [],
   "source": [
    "#Hmmmm\n",
    "import numpy as np\n",
    "from math import sqrt"
   ]
  },
  {
   "cell_type": "code",
   "execution_count": 228,
   "id": "11fc78c3-aded-492f-bded-c2e5589d66c0",
   "metadata": {},
   "outputs": [],
   "source": [
    "class LinearLayer:\n",
    "    def __init__(self, n_in, n_out, batch_size):\n",
    "        self.batch_size = batch_size\n",
    "        self.w = np.random.randn(n_in, n_out)*sqrt(2.0/n_in)\n",
    "        self.b = np.zeros((batch_size,n_out))\n",
    "    def forward(self,x):\n",
    "        return (np.dot(x,self.w) + self.b);\n",
    "    def show_wb(self,):\n",
    "        print(\"Weight Matrix\")\n",
    "        print(self.w)\n",
    "        print(\"Bias Matrix\")\n",
    "        print(self.b)\n",
    "    def get_wb(self,):\n",
    "        return self.w,self.b\n",
    "    # def backward(self,ip,op):\n",
    "        "
   ]
  },
  {
   "cell_type": "code",
   "execution_count": 229,
   "id": "8bb57862-06d7-466e-a82d-424283c7389c",
   "metadata": {},
   "outputs": [],
   "source": [
    "class ReluLayer:\n",
    "    def forward(x):\n",
    "        return np.clip(x,a_min=0.0, a_max = None)"
   ]
  },
  {
   "cell_type": "code",
   "execution_count": 230,
   "id": "1f13c541-a19e-466d-ac0b-dee3f78b5fc1",
   "metadata": {},
   "outputs": [
    {
     "ename": "SyntaxError",
     "evalue": "incomplete input (3955575020.py, line 4)",
     "output_type": "error",
     "traceback": [
      "\u001b[0;36m  Cell \u001b[0;32mIn[230], line 4\u001b[0;36m\u001b[0m\n\u001b[0;31m    #backward_pass\u001b[0m\n\u001b[0m                  ^\u001b[0m\n\u001b[0;31mSyntaxError\u001b[0m\u001b[0;31m:\u001b[0m incomplete input\n"
     ]
    }
   ],
   "source": [
    "class MyModel:\n",
    "    def __init__(self):\n",
    "    #forward_pass\n",
    "    #backward_pass"
   ]
  },
  {
   "cell_type": "code",
   "execution_count": 231,
   "id": "a15c212b-4c5b-4b3f-93d1-5bf93d3a9cee",
   "metadata": {},
   "outputs": [],
   "source": [
    "x = np.random.rand(10,100)\n",
    "L1 = LinearLayer(100,1,10)"
   ]
  },
  {
   "cell_type": "code",
   "execution_count": 232,
   "id": "046a761a-896a-4849-8326-fe0d2f516ebc",
   "metadata": {},
   "outputs": [
    {
     "name": "stdout",
     "output_type": "stream",
     "text": [
      "(10, 1)\n"
     ]
    }
   ],
   "source": [
    "y = L1.forward(x)\n",
    "print(y.shape)"
   ]
  },
  {
   "cell_type": "code",
   "execution_count": 233,
   "id": "3e034190-dba2-40e2-9c36-921e12f778ff",
   "metadata": {},
   "outputs": [],
   "source": [
    "x2 = np.random.randn(1,10)\n",
    "# x2 = x2/np.max(x2)\n",
    "L2 = LinearLayer(10,10,1)\n",
    "R2 = ReluLayer"
   ]
  },
  {
   "cell_type": "code",
   "execution_count": 236,
   "id": "380b6e83-6c96-4763-a13e-81bca134d701",
   "metadata": {},
   "outputs": [],
   "source": [
    "for i in range(50):\n",
    "    x2 = L2.forward(x2)\n",
    "    x2 = R2.forward(x2)"
   ]
  },
  {
   "cell_type": "code",
   "execution_count": 237,
   "id": "0ad0a8b8-be46-4fb1-9211-271cdca6a0d8",
   "metadata": {},
   "outputs": [
    {
     "data": {
      "text/plain": [
       "(np.float64(6.973486830027171e-06), np.float64(1.0561704739475982e-05))"
      ]
     },
     "execution_count": 237,
     "metadata": {},
     "output_type": "execute_result"
    }
   ],
   "source": [
    "np.mean(x2), np.std(x2)"
   ]
  },
  {
   "cell_type": "code",
   "execution_count": 184,
   "id": "1f3e02c7-fdb7-481f-827a-8775435cf85b",
   "metadata": {},
   "outputs": [
    {
     "name": "stdout",
     "output_type": "stream",
     "text": [
      "Weight Matrix\n",
      "[[ 0.26317411  0.07372283  0.5382719  -0.1166139   0.16434295 -0.26116197\n",
      "  -0.22348532  0.00540883  0.11189808  0.4678934 ]\n",
      " [-0.12011381 -0.16880452  0.12162432 -0.32014734  0.05896859  0.02324321\n",
      "   0.07798794  0.32292292 -0.12597836  0.40723273]\n",
      " [-0.43649973 -0.32951457 -0.27300162 -0.07567056 -0.0090121  -0.10251707\n",
      "  -0.17057633 -0.0928709   0.05474052  0.118754  ]\n",
      " [-0.2341939  -0.29035381  0.29319736  0.06527976 -0.0057842   0.15698346\n",
      "   0.48021238 -0.48596495  0.45977089  0.41004734]\n",
      " [-0.2613692  -0.18354285 -0.20795404  0.29307366 -0.13657353  0.23220661\n",
      "  -0.17059026  0.357476    0.10321946 -0.73047354]\n",
      " [ 0.6291821  -0.34940286  0.06142367  0.48600047  0.76587626  0.40967832\n",
      "   0.20344436  0.300871    0.61719017  0.09905945]\n",
      " [ 0.28285286  0.79314555 -0.89221383 -0.60116651 -0.02746117  0.36986341\n",
      "  -0.70374588  0.44304578 -0.29070127  0.19152476]\n",
      " [-0.43412914 -0.0943458   0.38992964  0.05029616 -0.34816882  0.23421382\n",
      "  -0.08198771  0.12294662  0.11593156 -0.13764568]\n",
      " [ 0.49794301  0.38677696 -0.03037798 -0.28973399 -0.22457893  0.41958895\n",
      "  -0.48427048  0.48287931 -0.07104164  0.50962075]\n",
      " [-0.24933915 -0.7254559   0.11224896  0.24711974  0.09059671  0.5533663\n",
      "  -0.24385198 -0.57791295 -0.16334769  0.16203648]]\n",
      "Bias Matrix\n",
      "[[0. 0. 0. 0. 0. 0. 0. 0. 0. 0.]]\n"
     ]
    }
   ],
   "source": [
    "L2.show_wb()"
   ]
  },
  {
   "cell_type": "code",
   "execution_count": null,
   "id": "58765174-b898-49dc-b8d1-08f911dca8c9",
   "metadata": {},
   "outputs": [],
   "source": []
  }
 ],
 "metadata": {
  "kernelspec": {
   "display_name": "Python 3 (ipykernel)",
   "language": "python",
   "name": "python3"
  },
  "language_info": {
   "codemirror_mode": {
    "name": "ipython",
    "version": 3
   },
   "file_extension": ".py",
   "mimetype": "text/x-python",
   "name": "python",
   "nbconvert_exporter": "python",
   "pygments_lexer": "ipython3",
   "version": "3.10.14"
  }
 },
 "nbformat": 4,
 "nbformat_minor": 5
}
